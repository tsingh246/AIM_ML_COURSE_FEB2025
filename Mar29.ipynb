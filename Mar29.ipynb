{
  "nbformat": 4,
  "nbformat_minor": 0,
  "metadata": {
    "colab": {
      "provenance": [],
      "authorship_tag": "ABX9TyPCvZ2k6s2bVaICs6VlUVTO",
      "include_colab_link": true
    },
    "kernelspec": {
      "name": "python3",
      "display_name": "Python 3"
    },
    "language_info": {
      "name": "python"
    }
  },
  "cells": [
    {
      "cell_type": "markdown",
      "metadata": {
        "id": "view-in-github",
        "colab_type": "text"
      },
      "source": [
        "<a href=\"https://colab.research.google.com/github/tsingh246/AIM_ML_COURSE_FEB2025/blob/main/Mar29.ipynb\" target=\"_parent\"><img src=\"https://colab.research.google.com/assets/colab-badge.svg\" alt=\"Open In Colab\"/></a>"
      ]
    },
    {
      "cell_type": "markdown",
      "source": [
        "Calculate mean"
      ],
      "metadata": {
        "id": "swe7gwYevH6T"
      }
    },
    {
      "cell_type": "code",
      "execution_count": 4,
      "metadata": {
        "id": "i2J7XPoou8a7"
      },
      "outputs": [],
      "source": [
        "arr=[10,2,3,4]\n",
        "def mean(arr):\n",
        "  sum=0\n",
        "  if len(arr)==0:\n",
        "    return sum\n",
        "  for i in arr:\n",
        "    sum+=i\n",
        "  return sum/len(arr)\n"
      ]
    },
    {
      "cell_type": "code",
      "source": [
        "print(mean(arr))"
      ],
      "metadata": {
        "colab": {
          "base_uri": "https://localhost:8080/"
        },
        "id": "-F5IAy_Av5xn",
        "outputId": "2fd62033-ce94-4824-a6eb-14ce17dff131"
      },
      "execution_count": 4,
      "outputs": [
        {
          "output_type": "stream",
          "name": "stdout",
          "text": [
            "4.75\n"
          ]
        }
      ]
    },
    {
      "cell_type": "markdown",
      "source": [
        "Calculate standard deviation\n",
        "std deviation =sqrt((summation of (element of an array - mean))/number of elements)"
      ],
      "metadata": {
        "id": "nvixYuOhwDLm"
      }
    },
    {
      "cell_type": "code",
      "source": [
        "arr1=[1,2,3,4]\n",
        "def std_dev(arr):\n",
        "  mu=mean(arr)\n",
        "  l=len(arr)\n",
        "  s=0\n",
        "  for i in range(l):\n",
        "    s+=(arr[i] - mu)**2\n",
        "  return (s/l )**0.5\n",
        ""
      ],
      "metadata": {
        "id": "526Ir1xqwEFX"
      },
      "execution_count": 5,
      "outputs": []
    },
    {
      "cell_type": "code",
      "source": [
        "print(std_dev(arr1))"
      ],
      "metadata": {
        "colab": {
          "base_uri": "https://localhost:8080/"
        },
        "id": "V5GSuGvHv8eF",
        "outputId": "0dd3cc04-9d51-4ee2-f883-9e4561ff43da"
      },
      "execution_count": 6,
      "outputs": [
        {
          "output_type": "stream",
          "name": "stdout",
          "text": [
            "1.118033988749895\n"
          ]
        }
      ]
    },
    {
      "cell_type": "code",
      "source": [
        "print(std_dev([10,2,-300,400]))"
      ],
      "metadata": {
        "colab": {
          "base_uri": "https://localhost:8080/"
        },
        "id": "8ZQ8SfERJxRD",
        "outputId": "fe123a73-cdba-4cd3-9548-7746346238a1"
      },
      "execution_count": 7,
      "outputs": [
        {
          "output_type": "stream",
          "name": "stdout",
          "text": [
            "248.47937540166185\n"
          ]
        }
      ]
    },
    {
      "cell_type": "code",
      "source": [
        "print(std_dev([1,1,1,1]))"
      ],
      "metadata": {
        "colab": {
          "base_uri": "https://localhost:8080/"
        },
        "id": "ydpt-ebFJ_uo",
        "outputId": "6b46a28c-b642-4e95-ca3b-939aac4d8a25"
      },
      "execution_count": 8,
      "outputs": [
        {
          "output_type": "stream",
          "name": "stdout",
          "text": [
            "0.0\n"
          ]
        }
      ]
    },
    {
      "cell_type": "code",
      "source": [],
      "metadata": {
        "id": "b-vOw-NTKLcu"
      },
      "execution_count": null,
      "outputs": []
    }
  ]
}