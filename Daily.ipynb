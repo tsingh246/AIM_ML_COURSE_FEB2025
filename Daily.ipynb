{
  "nbformat": 4,
  "nbformat_minor": 0,
  "metadata": {
    "colab": {
      "provenance": [],
      "authorship_tag": "ABX9TyNpZHQM/pcBCzVlr5m4zYHR",
      "include_colab_link": true
    },
    "kernelspec": {
      "name": "python3",
      "display_name": "Python 3"
    },
    "language_info": {
      "name": "python"
    }
  },
  "cells": [
    {
      "cell_type": "markdown",
      "metadata": {
        "id": "view-in-github",
        "colab_type": "text"
      },
      "source": [
        "<a href=\"https://colab.research.google.com/github/tsingh246/AIM_ML_COURSE_FEB2025/blob/main/Daily.ipynb\" target=\"_parent\"><img src=\"https://colab.research.google.com/assets/colab-badge.svg\" alt=\"Open In Colab\"/></a>"
      ]
    },
    {
      "cell_type": "code",
      "execution_count": null,
      "metadata": {
        "id": "uq3UwQXX-XpF"
      },
      "outputs": [],
      "source": []
    },
    {
      "cell_type": "markdown",
      "source": [
        "Q. Given an array nums containing n distinct numbers in the range [0, n], return the only number in the range that is missing from the array.\n",
        "\n",
        "  Input: nums = [3,0,1]\n",
        "  Output: 2\n",
        "  Explanation:\n",
        "  n = 3 since there are 3 numbers, so all numbers are in the range [0,3]. 2 is the missing number in the range since it does not appear in nums.\n",
        "\n",
        "  Input: nums = [0,1]\n",
        "  Output: 2\n",
        "  Explanation:\n",
        "  n = 2 since there are 2 numbers, so all numbers are in the range [0,2]. 2 is the missing number in the range since it does not appear in nums."
      ],
      "metadata": {
        "id": "23sClrrI_JnC"
      }
    },
    {
      "cell_type": "code",
      "source": [
        "#input=[3,0,1]\n",
        "input=[0,1]\n",
        "n=len(input)\n",
        "sum= n*(n+1)/2\n",
        "s=0\n",
        "for i in input:\n",
        "  s=s+i\n",
        "out=sum-s\n",
        "\n",
        "print(int(out))"
      ],
      "metadata": {
        "colab": {
          "base_uri": "https://localhost:8080/"
        },
        "id": "qTBuw5-X_Z_J",
        "outputId": "8d4945b1-4050-4e0a-8ee0-dd0777a766e0"
      },
      "execution_count": 4,
      "outputs": [
        {
          "output_type": "stream",
          "name": "stdout",
          "text": [
            "2\n"
          ]
        }
      ]
    },
    {
      "cell_type": "code",
      "source": [],
      "metadata": {
        "id": "qBX2c41EAHFC"
      },
      "execution_count": null,
      "outputs": []
    }
  ]
}